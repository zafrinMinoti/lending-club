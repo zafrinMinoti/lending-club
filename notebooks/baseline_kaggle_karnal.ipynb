{
 "cells": [
  {
   "cell_type": "code",
   "execution_count": 23,
   "metadata": {},
   "outputs": [],
   "source": [
    "import numpy as np\n",
    "import pandas as pd\n",
    "from matplotlib import pyplot as plt\n",
    "%matplotlib inline"
   ]
  },
  {
   "cell_type": "code",
   "execution_count": 7,
   "metadata": {},
   "outputs": [],
   "source": [
    "# data = pd.read_pickle('lending-club/myPickle.pkl')\n",
    "data = pd.read_pickle(\"C:/Users/zminoti/Documents/Kaggle/LendingClub/data/pkl/myPickle.pkl\")"
   ]
  },
  {
   "cell_type": "code",
   "execution_count": 8,
   "metadata": {},
   "outputs": [
    {
     "data": {
      "text/html": [
       "<div>\n",
       "<style scoped>\n",
       "    .dataframe tbody tr th:only-of-type {\n",
       "        vertical-align: middle;\n",
       "    }\n",
       "\n",
       "    .dataframe tbody tr th {\n",
       "        vertical-align: top;\n",
       "    }\n",
       "\n",
       "    .dataframe thead th {\n",
       "        text-align: right;\n",
       "    }\n",
       "</style>\n",
       "<table border=\"1\" class=\"dataframe\">\n",
       "  <thead>\n",
       "    <tr style=\"text-align: right;\">\n",
       "      <th></th>\n",
       "      <th>loan_amnt</th>\n",
       "      <th>funded_amnt</th>\n",
       "      <th>funded_amnt_inv</th>\n",
       "      <th>term</th>\n",
       "      <th>int_rate</th>\n",
       "      <th>installment</th>\n",
       "      <th>annual_inc</th>\n",
       "      <th>issue_d</th>\n",
       "      <th>pymnt_plan</th>\n",
       "      <th>dti</th>\n",
       "      <th>...</th>\n",
       "      <th>addr_state_SD</th>\n",
       "      <th>addr_state_TN</th>\n",
       "      <th>addr_state_TX</th>\n",
       "      <th>addr_state_UT</th>\n",
       "      <th>addr_state_VA</th>\n",
       "      <th>addr_state_VT</th>\n",
       "      <th>addr_state_WA</th>\n",
       "      <th>addr_state_WI</th>\n",
       "      <th>addr_state_WV</th>\n",
       "      <th>addr_state_WY</th>\n",
       "    </tr>\n",
       "  </thead>\n",
       "  <tbody>\n",
       "    <tr>\n",
       "      <th>42535</th>\n",
       "      <td>27050.0</td>\n",
       "      <td>27050.0</td>\n",
       "      <td>27050.0</td>\n",
       "      <td>0</td>\n",
       "      <td>10.99</td>\n",
       "      <td>885.46</td>\n",
       "      <td>55000.0</td>\n",
       "      <td>2013</td>\n",
       "      <td>0</td>\n",
       "      <td>22.87</td>\n",
       "      <td>...</td>\n",
       "      <td>0</td>\n",
       "      <td>0</td>\n",
       "      <td>0</td>\n",
       "      <td>0</td>\n",
       "      <td>0</td>\n",
       "      <td>0</td>\n",
       "      <td>0</td>\n",
       "      <td>0</td>\n",
       "      <td>0</td>\n",
       "      <td>0</td>\n",
       "    </tr>\n",
       "    <tr>\n",
       "      <th>42536</th>\n",
       "      <td>9750.0</td>\n",
       "      <td>9750.0</td>\n",
       "      <td>9750.0</td>\n",
       "      <td>0</td>\n",
       "      <td>13.98</td>\n",
       "      <td>333.14</td>\n",
       "      <td>26000.0</td>\n",
       "      <td>2013</td>\n",
       "      <td>0</td>\n",
       "      <td>25.12</td>\n",
       "      <td>...</td>\n",
       "      <td>0</td>\n",
       "      <td>0</td>\n",
       "      <td>0</td>\n",
       "      <td>0</td>\n",
       "      <td>0</td>\n",
       "      <td>0</td>\n",
       "      <td>0</td>\n",
       "      <td>0</td>\n",
       "      <td>0</td>\n",
       "      <td>0</td>\n",
       "    </tr>\n",
       "    <tr>\n",
       "      <th>42537</th>\n",
       "      <td>12000.0</td>\n",
       "      <td>12000.0</td>\n",
       "      <td>12000.0</td>\n",
       "      <td>0</td>\n",
       "      <td>6.62</td>\n",
       "      <td>368.45</td>\n",
       "      <td>105000.0</td>\n",
       "      <td>2013</td>\n",
       "      <td>0</td>\n",
       "      <td>14.05</td>\n",
       "      <td>...</td>\n",
       "      <td>0</td>\n",
       "      <td>0</td>\n",
       "      <td>0</td>\n",
       "      <td>0</td>\n",
       "      <td>0</td>\n",
       "      <td>0</td>\n",
       "      <td>0</td>\n",
       "      <td>0</td>\n",
       "      <td>0</td>\n",
       "      <td>0</td>\n",
       "    </tr>\n",
       "    <tr>\n",
       "      <th>42538</th>\n",
       "      <td>12000.0</td>\n",
       "      <td>12000.0</td>\n",
       "      <td>12000.0</td>\n",
       "      <td>0</td>\n",
       "      <td>13.53</td>\n",
       "      <td>407.40</td>\n",
       "      <td>40000.0</td>\n",
       "      <td>2013</td>\n",
       "      <td>0</td>\n",
       "      <td>16.94</td>\n",
       "      <td>...</td>\n",
       "      <td>0</td>\n",
       "      <td>0</td>\n",
       "      <td>0</td>\n",
       "      <td>0</td>\n",
       "      <td>0</td>\n",
       "      <td>0</td>\n",
       "      <td>0</td>\n",
       "      <td>0</td>\n",
       "      <td>0</td>\n",
       "      <td>0</td>\n",
       "    </tr>\n",
       "    <tr>\n",
       "      <th>42539</th>\n",
       "      <td>15000.0</td>\n",
       "      <td>15000.0</td>\n",
       "      <td>15000.0</td>\n",
       "      <td>0</td>\n",
       "      <td>8.90</td>\n",
       "      <td>476.30</td>\n",
       "      <td>63000.0</td>\n",
       "      <td>2013</td>\n",
       "      <td>0</td>\n",
       "      <td>16.51</td>\n",
       "      <td>...</td>\n",
       "      <td>0</td>\n",
       "      <td>0</td>\n",
       "      <td>0</td>\n",
       "      <td>0</td>\n",
       "      <td>0</td>\n",
       "      <td>0</td>\n",
       "      <td>0</td>\n",
       "      <td>0</td>\n",
       "      <td>0</td>\n",
       "      <td>0</td>\n",
       "    </tr>\n",
       "  </tbody>\n",
       "</table>\n",
       "<p>5 rows × 168 columns</p>\n",
       "</div>"
      ],
      "text/plain": [
       "       loan_amnt  funded_amnt  funded_amnt_inv  term  int_rate  installment  \\\n",
       "42535    27050.0      27050.0          27050.0     0     10.99       885.46   \n",
       "42536     9750.0       9750.0           9750.0     0     13.98       333.14   \n",
       "42537    12000.0      12000.0          12000.0     0      6.62       368.45   \n",
       "42538    12000.0      12000.0          12000.0     0     13.53       407.40   \n",
       "42539    15000.0      15000.0          15000.0     0      8.90       476.30   \n",
       "\n",
       "       annual_inc  issue_d  pymnt_plan    dti      ...        addr_state_SD  \\\n",
       "42535     55000.0     2013           0  22.87      ...                    0   \n",
       "42536     26000.0     2013           0  25.12      ...                    0   \n",
       "42537    105000.0     2013           0  14.05      ...                    0   \n",
       "42538     40000.0     2013           0  16.94      ...                    0   \n",
       "42539     63000.0     2013           0  16.51      ...                    0   \n",
       "\n",
       "       addr_state_TN  addr_state_TX  addr_state_UT  addr_state_VA  \\\n",
       "42535              0              0              0              0   \n",
       "42536              0              0              0              0   \n",
       "42537              0              0              0              0   \n",
       "42538              0              0              0              0   \n",
       "42539              0              0              0              0   \n",
       "\n",
       "       addr_state_VT  addr_state_WA  addr_state_WI  addr_state_WV  \\\n",
       "42535              0              0              0              0   \n",
       "42536              0              0              0              0   \n",
       "42537              0              0              0              0   \n",
       "42538              0              0              0              0   \n",
       "42539              0              0              0              0   \n",
       "\n",
       "       addr_state_WY  \n",
       "42535              0  \n",
       "42536              0  \n",
       "42537              0  \n",
       "42538              0  \n",
       "42539              0  \n",
       "\n",
       "[5 rows x 168 columns]"
      ]
     },
     "execution_count": 8,
     "metadata": {},
     "output_type": "execute_result"
    }
   ],
   "source": [
    "data.head()"
   ]
  },
  {
   "cell_type": "code",
   "execution_count": 11,
   "metadata": {},
   "outputs": [],
   "source": [
    "from sklearn.ensemble import RandomForestClassifier\n",
    "from sklearn.model_selection import cross_val_score, cross_val_predict\n",
    "from sklearn.metrics import accuracy_score, classification_report, confusion_matrix"
   ]
  },
  {
   "cell_type": "code",
   "execution_count": 12,
   "metadata": {},
   "outputs": [],
   "source": [
    "def print_score(clf, X_train, y_train, X_test, y_test, train=True):\n",
    "    if train:\n",
    "        print(\"Train Result:\\n\")\n",
    "        print(\"accuracy score: {0:.4f}\\n\".format(accuracy_score(y_train, clf.predict(X_train))))\n",
    "        print(\"Classification Report: \\n {}\\n\".format(classification_report(y_train, clf.predict(X_train))))\n",
    "        print(\"Confusion Matrix: \\n {}\\n\".format(confusion_matrix(y_train, clf.predict(X_train))))\n",
    "\n",
    "        res = cross_val_score(clf, X_train, y_train, cv=10, scoring='accuracy')\n",
    "        print(\"Average Accuracy: \\t {0:.4f}\".format(np.mean(res)))\n",
    "        print(\"Accuracy SD: \\t\\t {0:.4f}\".format(np.std(res)))\n",
    "        \n",
    "    elif train==False:\n",
    "        print(\"Test Result:\\n\")        \n",
    "        print(\"accuracy score: {0:.4f}\\n\".format(accuracy_score(y_test, clf.predict(X_test))))\n",
    "        print(\"Classification Report: \\n {}\\n\".format(classification_report(y_test, clf.predict(X_test))))\n",
    "        print(\"Confusion Matrix: \\n {}\\n\".format(confusion_matrix(y_test, clf.predict(X_test))))   "
   ]
  },
  {
   "cell_type": "code",
   "execution_count": 13,
   "metadata": {},
   "outputs": [],
   "source": [
    "from sklearn.model_selection import train_test_split\n",
    "X_train, X_test, y_train, y_test = train_test_split(data.drop('TARGET',axis=1),data['TARGET'],test_size=0.15,random_state=101)"
   ]
  },
  {
   "cell_type": "code",
   "execution_count": 14,
   "metadata": {},
   "outputs": [
    {
     "name": "stderr",
     "output_type": "stream",
     "text": [
      "C:\\ProgramData\\Anaconda3\\lib\\site-packages\\sklearn\\preprocessing\\data.py:625: DataConversionWarning: Data with input dtype uint8, int32, int64, float64 were all converted to float64 by StandardScaler.\n",
      "  return self.partial_fit(X, y)\n",
      "C:\\ProgramData\\Anaconda3\\lib\\site-packages\\sklearn\\base.py:462: DataConversionWarning: Data with input dtype uint8, int32, int64, float64 were all converted to float64 by StandardScaler.\n",
      "  return self.fit(X, **fit_params).transform(X)\n",
      "C:\\ProgramData\\Anaconda3\\lib\\site-packages\\ipykernel_launcher.py:4: DataConversionWarning: Data with input dtype uint8, int32, int64, float64 were all converted to float64 by StandardScaler.\n",
      "  after removing the cwd from sys.path.\n"
     ]
    }
   ],
   "source": [
    "from sklearn.preprocessing import StandardScaler\n",
    "sc = StandardScaler()\n",
    "X_train = sc.fit_transform(X_train)\n",
    "X_test = sc.transform(X_test)"
   ]
  },
  {
   "cell_type": "code",
   "execution_count": 16,
   "metadata": {},
   "outputs": [],
   "source": [
    "from imblearn.over_sampling import SMOTE\n",
    "sm = SMOTE(random_state=12, ratio = 1.0)\n",
    "x_train_r, y_train_r = sm.fit_sample(X_train, y_train)"
   ]
  },
  {
   "cell_type": "code",
   "execution_count": 17,
   "metadata": {},
   "outputs": [
    {
     "name": "stderr",
     "output_type": "stream",
     "text": [
      "C:\\ProgramData\\Anaconda3\\lib\\site-packages\\sklearn\\linear_model\\logistic.py:433: FutureWarning: Default solver will be changed to 'lbfgs' in 0.22. Specify a solver to silence this warning.\n",
      "  FutureWarning)\n"
     ]
    },
    {
     "data": {
      "text/plain": [
       "LogisticRegression(C=0.0001, class_weight=None, dual=False,\n",
       "          fit_intercept=True, intercept_scaling=1, max_iter=100,\n",
       "          multi_class='warn', n_jobs=None, penalty='l2', random_state=21,\n",
       "          solver='warn', tol=0.0001, verbose=0, warm_start=False)"
      ]
     },
     "execution_count": 17,
     "metadata": {},
     "output_type": "execute_result"
    }
   ],
   "source": [
    "from sklearn.linear_model import LogisticRegression\n",
    "\n",
    "log_reg = LogisticRegression(C = 0.0001,random_state=21)\n",
    "\n",
    "log_reg.fit(x_train_r, y_train_r)"
   ]
  },
  {
   "cell_type": "code",
   "execution_count": 18,
   "metadata": {},
   "outputs": [
    {
     "name": "stdout",
     "output_type": "stream",
     "text": [
      "Test Result:\n",
      "\n",
      "accuracy score: 0.7933\n",
      "\n",
      "Classification Report: \n",
      "               precision    recall  f1-score   support\n",
      "\n",
      "           0       1.00      0.79      0.88    122332\n",
      "           1       0.01      0.86      0.01       177\n",
      "\n",
      "   micro avg       0.79      0.79      0.79    122509\n",
      "   macro avg       0.50      0.83      0.45    122509\n",
      "weighted avg       1.00      0.79      0.88    122509\n",
      "\n",
      "\n",
      "Confusion Matrix: \n",
      " [[97036 25296]\n",
      " [   25   152]]\n",
      "\n"
     ]
    }
   ],
   "source": [
    "print_score(log_reg, X_train, y_train, X_test, y_test, train=False)"
   ]
  },
  {
   "cell_type": "code",
   "execution_count": 19,
   "metadata": {},
   "outputs": [
    {
     "data": {
      "text/plain": [
       "RandomForestClassifier(bootstrap=True, class_weight=None, criterion='gini',\n",
       "            max_depth=20, max_features=20, max_leaf_nodes=None,\n",
       "            min_impurity_decrease=0.0, min_impurity_split=None,\n",
       "            min_samples_leaf=1, min_samples_split=2,\n",
       "            min_weight_fraction_leaf=0.0, n_estimators=80, n_jobs=None,\n",
       "            oob_score=False, random_state=21, verbose=0, warm_start=False)"
      ]
     },
     "execution_count": 19,
     "metadata": {},
     "output_type": "execute_result"
    }
   ],
   "source": [
    "from sklearn.ensemble import RandomForestClassifier\n",
    "clf_rf = RandomForestClassifier(n_estimators=80, random_state=21, max_depth=20, max_features=20)\n",
    "clf_rf.fit(x_train_r, y_train_r)"
   ]
  },
  {
   "cell_type": "code",
   "execution_count": 20,
   "metadata": {},
   "outputs": [
    {
     "name": "stdout",
     "output_type": "stream",
     "text": [
      "Test Result:\n",
      "\n",
      "accuracy score: 0.9991\n",
      "\n",
      "Classification Report: \n",
      "               precision    recall  f1-score   support\n",
      "\n",
      "           0       1.00      1.00      1.00    122332\n",
      "           1       0.77      0.57      0.66       177\n",
      "\n",
      "   micro avg       1.00      1.00      1.00    122509\n",
      "   macro avg       0.89      0.79      0.83    122509\n",
      "weighted avg       1.00      1.00      1.00    122509\n",
      "\n",
      "\n",
      "Confusion Matrix: \n",
      " [[122302     30]\n",
      " [    76    101]]\n",
      "\n"
     ]
    }
   ],
   "source": [
    "print_score(clf_rf, x_train_r, y_train_r, X_test, y_test, train=False)"
   ]
  },
  {
   "cell_type": "code",
   "execution_count": 48,
   "metadata": {},
   "outputs": [
    {
     "name": "stdout",
     "output_type": "stream",
     "text": [
      "Test Result:\n",
      "\n",
      "accuracy score: 0.9986\n",
      "\n",
      "Classification Report: \n",
      "               precision    recall  f1-score   support\n",
      "\n",
      "           0       1.00      1.00      1.00    122332\n",
      "           1       1.00      0.06      0.11       177\n",
      "\n",
      "   micro avg       1.00      1.00      1.00    122509\n",
      "   macro avg       1.00      0.53      0.55    122509\n",
      "weighted avg       1.00      1.00      1.00    122509\n",
      "\n",
      "\n",
      "Confusion Matrix: \n",
      " [[122332      0]\n",
      " [   167     10]]\n",
      "\n"
     ]
    }
   ],
   "source": [
    "print_score(clf_rf, x_train_r, y_train_r, X_test, y_test, train=False)"
   ]
  },
  {
   "cell_type": "code",
   "execution_count": 24,
   "metadata": {},
   "outputs": [
    {
     "data": {
      "text/plain": [
       "array([2.67948711e-03, 1.95371409e-03, 1.90875403e-03, 1.30992669e-02,\n",
       "       1.81962848e-02, 1.29003184e-03, 1.40612998e-03, 1.02320885e-01,\n",
       "       0.00000000e+00, 2.39799918e-03, 1.58880638e-03, 5.16731387e-03,\n",
       "       2.04978349e-02, 1.54841396e-03, 2.29623330e-03, 3.17004433e-03,\n",
       "       1.15611609e-03, 1.30244851e-03, 1.33206657e-03, 3.19658367e-02,\n",
       "       5.85404970e-02, 4.79817792e-02, 7.38943005e-03, 8.81329407e-03,\n",
       "       1.40821725e-02, 1.01266782e-02, 1.12460685e-03, 6.57866422e-04,\n",
       "       2.15456654e-04, 4.08855175e-01, 1.64070967e-02, 0.00000000e+00,\n",
       "       4.24677840e-03, 1.47629162e-04, 0.00000000e+00, 0.00000000e+00,\n",
       "       1.15337116e-04, 7.83148233e-04, 1.63657809e-03, 1.16900244e-03,\n",
       "       3.90037271e-03, 3.53531970e-03, 2.18583396e-03, 1.07877859e-03,\n",
       "       6.13120574e-04, 1.03711134e-03, 1.14698154e-04, 3.16028365e-05,\n",
       "       9.02801188e-05, 1.02189322e-04, 1.43272688e-04, 4.33967294e-04,\n",
       "       2.92848589e-04, 3.91928205e-04, 4.02505612e-04, 1.13967854e-03,\n",
       "       4.61471673e-04, 7.11377684e-04, 1.03114419e-03, 7.57104363e-04,\n",
       "       1.13650620e-03, 4.28765418e-04, 3.53439206e-04, 4.30404907e-04,\n",
       "       3.43637520e-04, 5.70428298e-04, 3.57837326e-04, 9.86755620e-05,\n",
       "       2.79740570e-04, 4.15855741e-04, 1.20844445e-04, 2.00746495e-04,\n",
       "       1.66493639e-04, 4.48839534e-05, 8.32236494e-05, 4.28618817e-05,\n",
       "       2.35853690e-04, 1.57193627e-05, 2.25731677e-05, 5.98785557e-05,\n",
       "       2.71930010e-05, 5.43301996e-06, 8.73388641e-04, 3.92329562e-03,\n",
       "       8.32608693e-03, 1.87418257e-03, 1.06863657e-03, 5.93678836e-04,\n",
       "       6.75265970e-04, 4.09083052e-04, 4.44462888e-04, 4.20237910e-04,\n",
       "       6.21551027e-04, 0.00000000e+00, 3.05261442e-02, 6.89324338e-07,\n",
       "       7.25830600e-07, 5.49768661e-03, 3.42464469e-02, 1.08389103e-02,\n",
       "       1.07160297e-02, 1.19406981e-02, 1.03254328e-04, 9.37334645e-03,\n",
       "       1.61473846e-02, 0.00000000e+00, 8.70889586e-04, 1.25758541e-04,\n",
       "       1.22911817e-04, 1.35362900e-04, 3.03872317e-04, 5.92348011e-04,\n",
       "       1.03004026e-07, 5.76980755e-05, 3.15083081e-05, 3.60720854e-08,\n",
       "       1.08900812e-06, 3.60041605e-05, 1.87126280e-04, 2.25437135e-04,\n",
       "       1.62908390e-02, 1.84990656e-04, 8.98838925e-05, 4.00316673e-06,\n",
       "       3.39081013e-05, 1.18817816e-03, 2.61595502e-04, 2.06629176e-05,\n",
       "       0.00000000e+00, 0.00000000e+00, 2.81396898e-04, 1.53736631e-04,\n",
       "       2.25226280e-05, 1.84654954e-04, 2.66645754e-04, 1.19563048e-04,\n",
       "       2.31378761e-04, 0.00000000e+00, 4.07385662e-04, 1.03381941e-04,\n",
       "       9.02599915e-05, 5.35384608e-05, 1.07166918e-04, 5.31170254e-04,\n",
       "       0.00000000e+00, 1.80570378e-08, 4.81811988e-06, 4.73935680e-04,\n",
       "       1.07217494e-04, 1.82873344e-04, 1.15454652e-03, 3.20835968e-04,\n",
       "       2.73995432e-05, 3.10229759e-05, 2.20834304e-04, 1.32000926e-05,\n",
       "       1.06712913e-04, 3.06552385e-06, 5.60021468e-04, 2.82212069e-03,\n",
       "       3.88849376e-05, 2.07781150e-04, 1.26239775e-06, 1.30541093e-04,\n",
       "       1.30285609e-04, 4.15638789e-05, 1.70681396e-05])"
      ]
     },
     "execution_count": 24,
     "metadata": {},
     "output_type": "execute_result"
    }
   ],
   "source": [
    "clf_rf.feature_importances_"
   ]
  },
  {
   "cell_type": "code",
   "execution_count": 72,
   "metadata": {},
   "outputs": [
    {
     "data": {
      "text/plain": [
       "<Figure size 216x7200 with 0 Axes>"
      ]
     },
     "execution_count": 72,
     "metadata": {},
     "output_type": "execute_result"
    },
    {
     "data": {
      "image/png": "[encoded data removed]",
      "text/plain": [
       "<Figure size 504x720 with 1 Axes>"
      ]
     },
     "metadata": {
      "needs_background": "light"
     },
     "output_type": "display_data"
    },
    {
     "data": {
      "text/plain": [
       "<Figure size 216x7200 with 0 Axes>"
      ]
     },
     "metadata": {},
     "output_type": "display_data"
    }
   ],
   "source": [
    "features = data.columns\n",
    "importances = clf_rf.feature_importances_\n",
    "indices = np.argsort(importances)\n",
    "\n",
    "plt.title('Feature Importances')\n",
    "plt.barh(range(len(indices)), importances[indices], color='b', align='center',)\n",
    "plt.yticks(range(len(indices)), [features[i] for i in indices])\n",
    "plt.xlabel('Relative Importance')\n",
    "# plt.rcParams[\"figure.figsize\"] = (7,10)\n",
    "# plt.figure(figsize=(3,100))"
   ]
  },
  {
   "cell_type": "code",
   "execution_count": 43,
   "metadata": {},
   "outputs": [
    {
     "data": {
      "text/html": [
       "<div>\n",
       "<style scoped>\n",
       "    .dataframe tbody tr th:only-of-type {\n",
       "        vertical-align: middle;\n",
       "    }\n",
       "\n",
       "    .dataframe tbody tr th {\n",
       "        vertical-align: top;\n",
       "    }\n",
       "\n",
       "    .dataframe thead th {\n",
       "        text-align: right;\n",
       "    }\n",
       "</style>\n",
       "<table border=\"1\" class=\"dataframe\">\n",
       "  <thead>\n",
       "    <tr style=\"text-align: right;\">\n",
       "      <th></th>\n",
       "      <th>importance</th>\n",
       "    </tr>\n",
       "  </thead>\n",
       "  <tbody>\n",
       "    <tr>\n",
       "      <th>last_pymnt_d</th>\n",
       "      <td>4.088552e-01</td>\n",
       "    </tr>\n",
       "    <tr>\n",
       "      <th>issue_d</th>\n",
       "      <td>1.023209e-01</td>\n",
       "    </tr>\n",
       "    <tr>\n",
       "      <th>out_prncp</th>\n",
       "      <td>5.854050e-02</td>\n",
       "    </tr>\n",
       "    <tr>\n",
       "      <th>out_prncp_inv</th>\n",
       "      <td>4.798178e-02</td>\n",
       "    </tr>\n",
       "    <tr>\n",
       "      <th>home_ownership_RENT</th>\n",
       "      <td>3.424645e-02</td>\n",
       "    </tr>\n",
       "    <tr>\n",
       "      <th>initial_list_status</th>\n",
       "      <td>3.196584e-02</td>\n",
       "    </tr>\n",
       "    <tr>\n",
       "      <th>home_ownership_MORTGAGE</th>\n",
       "      <td>3.052614e-02</td>\n",
       "    </tr>\n",
       "    <tr>\n",
       "      <th>inq_last_6mths</th>\n",
       "      <td>2.049783e-02</td>\n",
       "    </tr>\n",
       "    <tr>\n",
       "      <th>int_rate</th>\n",
       "      <td>1.819628e-02</td>\n",
       "    </tr>\n",
       "    <tr>\n",
       "      <th>last_pymnt_amnt</th>\n",
       "      <td>1.640710e-02</td>\n",
       "    </tr>\n",
       "    <tr>\n",
       "      <th>addr_state_CA</th>\n",
       "      <td>1.629084e-02</td>\n",
       "    </tr>\n",
       "    <tr>\n",
       "      <th>purpose_debt_consolidation</th>\n",
       "      <td>1.614738e-02</td>\n",
       "    </tr>\n",
       "    <tr>\n",
       "      <th>total_rec_prncp</th>\n",
       "      <td>1.408217e-02</td>\n",
       "    </tr>\n",
       "    <tr>\n",
       "      <th>term</th>\n",
       "      <td>1.309927e-02</td>\n",
       "    </tr>\n",
       "    <tr>\n",
       "      <th>verification_status_Verified</th>\n",
       "      <td>1.194070e-02</td>\n",
       "    </tr>\n",
       "    <tr>\n",
       "      <th>verification_status_Not Verified</th>\n",
       "      <td>1.083891e-02</td>\n",
       "    </tr>\n",
       "    <tr>\n",
       "      <th>verification_status_Source Verified</th>\n",
       "      <td>1.071603e-02</td>\n",
       "    </tr>\n",
       "    <tr>\n",
       "      <th>total_rec_int</th>\n",
       "      <td>1.012668e-02</td>\n",
       "    </tr>\n",
       "    <tr>\n",
       "      <th>purpose_credit_card</th>\n",
       "      <td>9.373346e-03</td>\n",
       "    </tr>\n",
       "    <tr>\n",
       "      <th>total_pymnt_inv</th>\n",
       "      <td>8.813294e-03</td>\n",
       "    </tr>\n",
       "    <tr>\n",
       "      <th>emp_length_10</th>\n",
       "      <td>8.326087e-03</td>\n",
       "    </tr>\n",
       "    <tr>\n",
       "      <th>total_pymnt</th>\n",
       "      <td>7.389430e-03</td>\n",
       "    </tr>\n",
       "    <tr>\n",
       "      <th>home_ownership_OWN</th>\n",
       "      <td>5.497687e-03</td>\n",
       "    </tr>\n",
       "    <tr>\n",
       "      <th>earliest_cr_line</th>\n",
       "      <td>5.167314e-03</td>\n",
       "    </tr>\n",
       "    <tr>\n",
       "      <th>last_credit_pull_d</th>\n",
       "      <td>4.246778e-03</td>\n",
       "    </tr>\n",
       "    <tr>\n",
       "      <th>emp_length_1</th>\n",
       "      <td>3.923296e-03</td>\n",
       "    </tr>\n",
       "    <tr>\n",
       "      <th>grade_A</th>\n",
       "      <td>3.900373e-03</td>\n",
       "    </tr>\n",
       "    <tr>\n",
       "      <th>grade_B</th>\n",
       "      <td>3.535320e-03</td>\n",
       "    </tr>\n",
       "    <tr>\n",
       "      <th>pub_rec</th>\n",
       "      <td>3.170044e-03</td>\n",
       "    </tr>\n",
       "    <tr>\n",
       "      <th>addr_state_TX</th>\n",
       "      <td>2.822121e-03</td>\n",
       "    </tr>\n",
       "    <tr>\n",
       "      <th>...</th>\n",
       "      <td>...</td>\n",
       "    </tr>\n",
       "    <tr>\n",
       "      <th>addr_state_OR</th>\n",
       "      <td>3.102298e-05</td>\n",
       "    </tr>\n",
       "    <tr>\n",
       "      <th>addr_state_OK</th>\n",
       "      <td>2.739954e-05</td>\n",
       "    </tr>\n",
       "    <tr>\n",
       "      <th>sub_grade_G4</th>\n",
       "      <td>2.719300e-05</td>\n",
       "    </tr>\n",
       "    <tr>\n",
       "      <th>sub_grade_G2</th>\n",
       "      <td>2.257317e-05</td>\n",
       "    </tr>\n",
       "    <tr>\n",
       "      <th>addr_state_KS</th>\n",
       "      <td>2.252263e-05</td>\n",
       "    </tr>\n",
       "    <tr>\n",
       "      <th>addr_state_HI</th>\n",
       "      <td>2.066292e-05</td>\n",
       "    </tr>\n",
       "    <tr>\n",
       "      <th>addr_state_WY</th>\n",
       "      <td>1.706814e-05</td>\n",
       "    </tr>\n",
       "    <tr>\n",
       "      <th>sub_grade_G1</th>\n",
       "      <td>1.571936e-05</td>\n",
       "    </tr>\n",
       "    <tr>\n",
       "      <th>addr_state_RI</th>\n",
       "      <td>1.320009e-05</td>\n",
       "    </tr>\n",
       "    <tr>\n",
       "      <th>sub_grade_G5</th>\n",
       "      <td>5.433020e-06</td>\n",
       "    </tr>\n",
       "    <tr>\n",
       "      <th>addr_state_NH</th>\n",
       "      <td>4.818120e-06</td>\n",
       "    </tr>\n",
       "    <tr>\n",
       "      <th>addr_state_DC</th>\n",
       "      <td>4.003167e-06</td>\n",
       "    </tr>\n",
       "    <tr>\n",
       "      <th>addr_state_SD</th>\n",
       "      <td>3.065524e-06</td>\n",
       "    </tr>\n",
       "    <tr>\n",
       "      <th>addr_state_VT</th>\n",
       "      <td>1.262398e-06</td>\n",
       "    </tr>\n",
       "    <tr>\n",
       "      <th>addr_state_AK</th>\n",
       "      <td>1.089008e-06</td>\n",
       "    </tr>\n",
       "    <tr>\n",
       "      <th>home_ownership_OTHER</th>\n",
       "      <td>7.258306e-07</td>\n",
       "    </tr>\n",
       "    <tr>\n",
       "      <th>home_ownership_NONE</th>\n",
       "      <td>6.893243e-07</td>\n",
       "    </tr>\n",
       "    <tr>\n",
       "      <th>purpose_renewable_energy</th>\n",
       "      <td>1.030040e-07</td>\n",
       "    </tr>\n",
       "    <tr>\n",
       "      <th>purpose_wedding</th>\n",
       "      <td>3.607209e-08</td>\n",
       "    </tr>\n",
       "    <tr>\n",
       "      <th>addr_state_NE</th>\n",
       "      <td>1.805704e-08</td>\n",
       "    </tr>\n",
       "    <tr>\n",
       "      <th>home_ownership_ANY</th>\n",
       "      <td>0.000000e+00</td>\n",
       "    </tr>\n",
       "    <tr>\n",
       "      <th>policy_code</th>\n",
       "      <td>0.000000e+00</td>\n",
       "    </tr>\n",
       "    <tr>\n",
       "      <th>application_type</th>\n",
       "      <td>0.000000e+00</td>\n",
       "    </tr>\n",
       "    <tr>\n",
       "      <th>addr_state_ND</th>\n",
       "      <td>0.000000e+00</td>\n",
       "    </tr>\n",
       "    <tr>\n",
       "      <th>pymnt_plan</th>\n",
       "      <td>0.000000e+00</td>\n",
       "    </tr>\n",
       "    <tr>\n",
       "      <th>purpose_educational</th>\n",
       "      <td>0.000000e+00</td>\n",
       "    </tr>\n",
       "    <tr>\n",
       "      <th>addr_state_IA</th>\n",
       "      <td>0.000000e+00</td>\n",
       "    </tr>\n",
       "    <tr>\n",
       "      <th>addr_state_ID</th>\n",
       "      <td>0.000000e+00</td>\n",
       "    </tr>\n",
       "    <tr>\n",
       "      <th>addr_state_ME</th>\n",
       "      <td>0.000000e+00</td>\n",
       "    </tr>\n",
       "    <tr>\n",
       "      <th>next_pymnt_d</th>\n",
       "      <td>0.000000e+00</td>\n",
       "    </tr>\n",
       "  </tbody>\n",
       "</table>\n",
       "<p>167 rows × 1 columns</p>\n",
       "</div>"
      ],
      "text/plain": [
       "                                       importance\n",
       "last_pymnt_d                         4.088552e-01\n",
       "issue_d                              1.023209e-01\n",
       "out_prncp                            5.854050e-02\n",
       "out_prncp_inv                        4.798178e-02\n",
       "home_ownership_RENT                  3.424645e-02\n",
       "initial_list_status                  3.196584e-02\n",
       "home_ownership_MORTGAGE              3.052614e-02\n",
       "inq_last_6mths                       2.049783e-02\n",
       "int_rate                             1.819628e-02\n",
       "last_pymnt_amnt                      1.640710e-02\n",
       "addr_state_CA                        1.629084e-02\n",
       "purpose_debt_consolidation           1.614738e-02\n",
       "total_rec_prncp                      1.408217e-02\n",
       "term                                 1.309927e-02\n",
       "verification_status_Verified         1.194070e-02\n",
       "verification_status_Not Verified     1.083891e-02\n",
       "verification_status_Source Verified  1.071603e-02\n",
       "total_rec_int                        1.012668e-02\n",
       "purpose_credit_card                  9.373346e-03\n",
       "total_pymnt_inv                      8.813294e-03\n",
       "emp_length_10                        8.326087e-03\n",
       "total_pymnt                          7.389430e-03\n",
       "home_ownership_OWN                   5.497687e-03\n",
       "earliest_cr_line                     5.167314e-03\n",
       "last_credit_pull_d                   4.246778e-03\n",
       "emp_length_1                         3.923296e-03\n",
       "grade_A                              3.900373e-03\n",
       "grade_B                              3.535320e-03\n",
       "pub_rec                              3.170044e-03\n",
       "addr_state_TX                        2.822121e-03\n",
       "...                                           ...\n",
       "addr_state_OR                        3.102298e-05\n",
       "addr_state_OK                        2.739954e-05\n",
       "sub_grade_G4                         2.719300e-05\n",
       "sub_grade_G2                         2.257317e-05\n",
       "addr_state_KS                        2.252263e-05\n",
       "addr_state_HI                        2.066292e-05\n",
       "addr_state_WY                        1.706814e-05\n",
       "sub_grade_G1                         1.571936e-05\n",
       "addr_state_RI                        1.320009e-05\n",
       "sub_grade_G5                         5.433020e-06\n",
       "addr_state_NH                        4.818120e-06\n",
       "addr_state_DC                        4.003167e-06\n",
       "addr_state_SD                        3.065524e-06\n",
       "addr_state_VT                        1.262398e-06\n",
       "addr_state_AK                        1.089008e-06\n",
       "home_ownership_OTHER                 7.258306e-07\n",
       "home_ownership_NONE                  6.893243e-07\n",
       "purpose_renewable_energy             1.030040e-07\n",
       "purpose_wedding                      3.607209e-08\n",
       "addr_state_NE                        1.805704e-08\n",
       "home_ownership_ANY                   0.000000e+00\n",
       "policy_code                          0.000000e+00\n",
       "application_type                     0.000000e+00\n",
       "addr_state_ND                        0.000000e+00\n",
       "pymnt_plan                           0.000000e+00\n",
       "purpose_educational                  0.000000e+00\n",
       "addr_state_IA                        0.000000e+00\n",
       "addr_state_ID                        0.000000e+00\n",
       "addr_state_ME                        0.000000e+00\n",
       "next_pymnt_d                         0.000000e+00\n",
       "\n",
       "[167 rows x 1 columns]"
      ]
     },
     "execution_count": 43,
     "metadata": {},
     "output_type": "execute_result"
    }
   ],
   "source": [
    "X = data.drop('TARGET',axis=1)\n",
    "feature_importances = pd.DataFrame(clf_rf.feature_importances_,\n",
    "                                   index = X.columns,\n",
    "                                    columns=['importance']).sort_values('importance', ascending=False)\n",
    "feature_importances"
   ]
  },
  {
   "cell_type": "code",
   "execution_count": 44,
   "metadata": {},
   "outputs": [
    {
     "data": {
      "text/html": [
       "<div>\n",
       "<style scoped>\n",
       "    .dataframe tbody tr th:only-of-type {\n",
       "        vertical-align: middle;\n",
       "    }\n",
       "\n",
       "    .dataframe tbody tr th {\n",
       "        vertical-align: top;\n",
       "    }\n",
       "\n",
       "    .dataframe thead th {\n",
       "        text-align: right;\n",
       "    }\n",
       "</style>\n",
       "<table border=\"1\" class=\"dataframe\">\n",
       "  <thead>\n",
       "    <tr style=\"text-align: right;\">\n",
       "      <th></th>\n",
       "      <th>importance</th>\n",
       "    </tr>\n",
       "  </thead>\n",
       "  <tbody>\n",
       "    <tr>\n",
       "      <th>last_pymnt_d</th>\n",
       "      <td>0.408855</td>\n",
       "    </tr>\n",
       "    <tr>\n",
       "      <th>issue_d</th>\n",
       "      <td>0.102321</td>\n",
       "    </tr>\n",
       "    <tr>\n",
       "      <th>out_prncp</th>\n",
       "      <td>0.058540</td>\n",
       "    </tr>\n",
       "    <tr>\n",
       "      <th>out_prncp_inv</th>\n",
       "      <td>0.047982</td>\n",
       "    </tr>\n",
       "    <tr>\n",
       "      <th>home_ownership_RENT</th>\n",
       "      <td>0.034246</td>\n",
       "    </tr>\n",
       "    <tr>\n",
       "      <th>initial_list_status</th>\n",
       "      <td>0.031966</td>\n",
       "    </tr>\n",
       "    <tr>\n",
       "      <th>home_ownership_MORTGAGE</th>\n",
       "      <td>0.030526</td>\n",
       "    </tr>\n",
       "    <tr>\n",
       "      <th>inq_last_6mths</th>\n",
       "      <td>0.020498</td>\n",
       "    </tr>\n",
       "    <tr>\n",
       "      <th>int_rate</th>\n",
       "      <td>0.018196</td>\n",
       "    </tr>\n",
       "    <tr>\n",
       "      <th>last_pymnt_amnt</th>\n",
       "      <td>0.016407</td>\n",
       "    </tr>\n",
       "  </tbody>\n",
       "</table>\n",
       "</div>"
      ],
      "text/plain": [
       "                         importance\n",
       "last_pymnt_d               0.408855\n",
       "issue_d                    0.102321\n",
       "out_prncp                  0.058540\n",
       "out_prncp_inv              0.047982\n",
       "home_ownership_RENT        0.034246\n",
       "initial_list_status        0.031966\n",
       "home_ownership_MORTGAGE    0.030526\n",
       "inq_last_6mths             0.020498\n",
       "int_rate                   0.018196\n",
       "last_pymnt_amnt            0.016407"
      ]
     },
     "execution_count": 44,
     "metadata": {},
     "output_type": "execute_result"
    }
   ],
   "source": [
    "feature_importances[:10]"
   ]
  },
  {
   "cell_type": "code",
   "execution_count": 53,
   "metadata": {},
   "outputs": [
    {
     "data": {
      "text/plain": [
       "<matplotlib.axes._subplots.AxesSubplot at 0x2c8ad5d39e8>"
      ]
     },
     "execution_count": 53,
     "metadata": {},
     "output_type": "execute_result"
    },
    {
     "data": {
      "image/png": "[encoded data removed]",
      "text/plain": [
       "<Figure size 432x288 with 1 Axes>"
      ]
     },
     "metadata": {
      "needs_background": "light"
     },
     "output_type": "display_data"
    }
   ],
   "source": [
    "feature_importances[:15].plot(kind='bar')"
   ]
  },
  {
   "cell_type": "code",
   "execution_count": 41,
   "metadata": {},
   "outputs": [
    {
     "data": {
      "text/plain": [
       "(816722, 168)"
      ]
     },
     "execution_count": 41,
     "metadata": {},
     "output_type": "execute_result"
    }
   ],
   "source": [
    "data.TARGET"
   ]
  },
  {
   "cell_type": "code",
   "execution_count": 57,
   "metadata": {},
   "outputs": [
    {
     "data": {
      "text/plain": [
       "0    693190\n",
       "1      1023\n",
       "Name: TARGET, dtype: int64"
      ]
     },
     "execution_count": 57,
     "metadata": {},
     "output_type": "execute_result"
    }
   ],
   "source": [
    "y_train.value_counts()"
   ]
  },
  {
   "cell_type": "code",
   "execution_count": 54,
   "metadata": {},
   "outputs": [
    {
     "data": {
      "text/plain": [
       "(694213, 167)"
      ]
     },
     "execution_count": 54,
     "metadata": {},
     "output_type": "execute_result"
    }
   ],
   "source": [
    "X_train.shape"
   ]
  },
  {
   "cell_type": "code",
   "execution_count": null,
   "metadata": {},
   "outputs": [],
   "source": [
    "data.to_csv()"
   ]
  },
  {
   "cell_type": "code",
   "execution_count": null,
   "metadata": {},
   "outputs": [],
   "source": []
  }
 ],
 "metadata": {
  "kernelspec": {
   "display_name": "Python 3",
   "language": "python",
   "name": "python3"
  },
  "language_info": {
   "codemirror_mode": {
    "name": "ipython",
    "version": 3
   },
   "file_extension": ".py",
   "mimetype": "text/x-python",
   "name": "python",
   "nbconvert_exporter": "python",
   "pygments_lexer": "ipython3",
   "version": "3.7.1"
  }
 },
 "nbformat": 4,
 "nbformat_minor": 2
}
